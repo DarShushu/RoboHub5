{
 "cells": [
  {
   "cell_type": "markdown",
   "metadata": {},
   "source": [
    "🤔**Задача 1: Вывести \"Hello, World!\"**"
   ]
  },
  {
   "cell_type": "code",
   "execution_count": 7,
   "metadata": {},
   "outputs": [
    {
     "name": "stdout",
     "output_type": "stream",
     "text": [
      "Hello, RoboHub\n"
     ]
    }
   ],
   "source": [
    "print(\"Hello, RoboHub\")"
   ]
  },
  {
   "cell_type": "markdown",
   "metadata": {},
   "source": [
    "🤔**Задача 2: Создать переменную и вывести её значение**"
   ]
  },
  {
   "cell_type": "code",
   "execution_count": 52,
   "metadata": {},
   "outputs": [
    {
     "name": "stdout",
     "output_type": "stream",
     "text": [
      "2 - 3 = -1\n"
     ]
    }
   ],
   "source": [
    "x = 2\n",
    "y = 3\n",
    "\n",
    "print(x,\"-\", y, \"=\", x-y)"
   ]
  },
  {
   "cell_type": "markdown",
   "metadata": {},
   "source": [
    "🤔**Задача 3: Сложение и вычитание**"
   ]
  },
  {
   "cell_type": "code",
   "execution_count": 3,
   "metadata": {},
   "outputs": [
    {
     "name": "stdout",
     "output_type": "stream",
     "text": [
      "Sum: 8\n",
      "Difference: 2\n"
     ]
    }
   ],
   "source": [
    "a = 5\n",
    "b = 3\n",
    "sum_result = a + b\n",
    "difference_result = a - b\n",
    "print(\"Sum:\", sum_result)\n",
    "print(\"Difference:\", difference_result)"
   ]
  },
  {
   "cell_type": "markdown",
   "metadata": {},
   "source": [
    "🤔**Задача 4: Умножение, деление и возведение в степень**"
   ]
  },
  {
   "cell_type": "code",
   "execution_count": 14,
   "metadata": {},
   "outputs": [
    {
     "name": "stdout",
     "output_type": "stream",
     "text": [
      "Product: 10\n",
      "Division: 2.5\n",
      "Modulo: 1\n",
      "Div: 2\n",
      "Power: 25\n"
     ]
    }
   ],
   "source": [
    "c = 5\n",
    "d = 2\n",
    "product_result = c * d\n",
    "division_result = c / d\n",
    "mod_result = c % d  # остаток от деления\n",
    "div_result = c // d # целочисленное деление\n",
    "power_result = c ** d # возведение в степень\n",
    "print(\"Product:\", product_result)\n",
    "print(\"Division:\", division_result)\n",
    "print(\"Modulo:\", mod_result)\n",
    "print(\"Div:\", div_result)\n",
    "print(\"Power:\", power_result)\n"
   ]
  },
  {
   "cell_type": "markdown",
   "metadata": {},
   "source": [
    "🤔**Задача 5: Операторы сравнения**"
   ]
  },
  {
   "cell_type": "code",
   "execution_count": 15,
   "metadata": {},
   "outputs": [
    {
     "name": "stdout",
     "output_type": "stream",
     "text": [
      "Greater: False\n",
      ">=: True\n",
      "Less: False\n",
      "Equal: True\n",
      "Not equal: False\n"
     ]
    }
   ],
   "source": [
    "e = 8\n",
    "f = 8\n",
    "greater_than = e > f\n",
    "less_than = e < f\n",
    "equal_to = e == f\n",
    "not_equal_to = e != f\n",
    "print(\"Greater:\", greater_than)\n",
    "print(\">=:\", e >= f)\n",
    "print(\"Less:\", less_than)\n",
    "print(\"Equal:\", equal_to)\n",
    "print(\"Not equal:\", not_equal_to)"
   ]
  },
  {
   "cell_type": "markdown",
   "metadata": {},
   "source": [
    "🤔**Задача 6: Условный оператор if**"
   ]
  },
  {
   "cell_type": "code",
   "execution_count": 17,
   "metadata": {},
   "outputs": [
    {
     "name": "stdout",
     "output_type": "stream",
     "text": [
      "horosho!!\n"
     ]
    }
   ],
   "source": [
    "temperature = 25\n",
    "if temperature > 30:\n",
    "    print(\"Too hot\")\n",
    "elif temperature < 10:\n",
    "    print(\"Too cold\")\n",
    "elif temperature > 20:\n",
    "    print(\"horosho!!\")\n",
    "else:\n",
    "    print(\"Normal weather\")"
   ]
  },
  {
   "cell_type": "markdown",
   "metadata": {},
   "source": [
    "🤔**Задача 7: Логические операторы**"
   ]
  },
  {
   "cell_type": "code",
   "execution_count": 25,
   "metadata": {},
   "outputs": [
    {
     "name": "stdout",
     "output_type": "stream",
     "text": [
      "Okey\n",
      "hmm\n",
      "maybe ok\n"
     ]
    }
   ],
   "source": [
    "is_sunny = True\n",
    "is_warm = True\n",
    "is_rayny = False\n",
    "if is_sunny and is_warm:\n",
    "    print(\"Okey\")\n",
    "if not (is_sunny and is_rayny):\n",
    "    print(\"hmm\")\n",
    "if is_sunny or is_rayny:\n",
    "    print(\"maybe ok\")"
   ]
  },
  {
   "cell_type": "markdown",
   "metadata": {},
   "source": [
    "🤔**Задача 8: Типы данных**"
   ]
  },
  {
   "cell_type": "code",
   "execution_count": 27,
   "metadata": {},
   "outputs": [
    {
     "name": "stdout",
     "output_type": "stream",
     "text": [
      "<class 'str'>\n",
      "<class 'int'>\n",
      "<class 'float'>\n",
      "<class 'bool'>\n",
      "<class 'int'>\n"
     ]
    }
   ],
   "source": [
    "name = \"John\"\n",
    "age = 30\n",
    "height = 1.75\n",
    "is_student = True\n",
    "\n",
    "print(type(name))  \n",
    "print(type(age))  \n",
    "print(type(height)) \n",
    "print(type(is_student))  \n",
    "\n",
    "name = 70\n",
    "print(type(name))  "
   ]
  },
  {
   "cell_type": "markdown",
   "metadata": {},
   "source": [
    "🤔**Задача 9: Преобразование типов данных**"
   ]
  },
  {
   "cell_type": "code",
   "execution_count": 34,
   "metadata": {},
   "outputs": [
    {
     "name": "stdout",
     "output_type": "stream",
     "text": [
      "notЦелое число из строки: 42.87\n",
      "<class 'float'>\n"
     ]
    }
   ],
   "source": [
    "num_str = \"42.87\"\n",
    "num_int = float(num_str)\n",
    "print(\"notЦелое число из строки:\", num_int)\n",
    "print(type(num_int))  "
   ]
  },
  {
   "cell_type": "markdown",
   "metadata": {},
   "source": [
    "🤔**Задача 10: Ввод данных от пользователя**"
   ]
  },
  {
   "cell_type": "code",
   "execution_count": null,
   "metadata": {},
   "outputs": [
    {
     "name": "stdout",
     "output_type": "stream",
     "text": [
      "Hi, s!\n"
     ]
    }
   ],
   "source": [
    "# user_name = input(\"Enter your name: \")\n",
    "# print(\"Hi, \" + user_name + \"!\")\n",
    "\n",
    "print(\"Hi, \" + input(\"Enter your name: \") + \"!\") #вариант быстрее"
   ]
  },
  {
   "cell_type": "markdown",
   "metadata": {},
   "source": [
    "🤔**Напишите программу**\n",
    "\n",
    "Тимофей обычно спит ночью X часов и устраивает себе днем тихий час на Y минут. Определите, сколько всего минут Тимофей спит в сутки.\n"
   ]
  },
  {
   "cell_type": "code",
   "execution_count": null,
   "metadata": {},
   "outputs": [
    {
     "name": "stdout",
     "output_type": "stream",
     "text": [
      "2.0 3.0\n",
      "Тимоша сладко поспал  123.0  минут!\n"
     ]
    }
   ],
   "source": [
    "# Пример ввод 1: 7 30\n",
    "# Вывод: 450\n",
    "\n",
    "night = float(input(\"night time, h: \"))\n",
    "day = float(input(\"day time, min: \"))\n",
    "\n",
    "print(\"Тимоша сладко поспал \", (night*60+day) ,\" минут!\") \n",
    "\n",
    "# Пример ввод 2: 0 42\n",
    "# Вывод: 42"
   ]
  },
  {
   "cell_type": "markdown",
   "metadata": {},
   "source": [
    "🤔**Напишите программу**\n",
    "\n",
    "Из передачи “Здоровье” Аня узнала, что рекомендуется спать хотя бы **A** часов в сутки, но пересыпать тоже вредно и не стоит спать более **B** часов. Сейчас Аня спит **H** часов в сутки. Если режим сна Ани удовлетворяет рекомендациям передачи “Здоровье”, выведите “Это нормально”. Если Аня спит менее **A** часов, выведите “Недосып”, если же более **B** часов, то выведите “Пересып”.\n",
    "\n",
    "Получаемое число **A** всегда меньше либо равно **B**.\n",
    "На вход программе в три строки подаются переменные в следующем порядке: **A, B, H**.\n"
   ]
  },
  {
   "cell_type": "code",
   "execution_count": 57,
   "metadata": {},
   "outputs": [
    {
     "name": "stdout",
     "output_type": "stream",
     "text": [
      "Недосуп\n"
     ]
    }
   ],
   "source": [
    "# Пример ввод 1: 6 10 8\n",
    "# Вывод: Это нормально\n",
    "\n",
    "# Прмер ввод 2: 7 9 10\n",
    "# Вывод: Пересып\n",
    "\n",
    "# Пример ввод 3: 7 9 2\n",
    "# Вывод: Недосып\n",
    "\n",
    "A = float(input(\"Рекомендуется спать не менее\"))\n",
    "B = float(input(\"Рекомендуется спать не более\"))\n",
    "H = float(input(\"А сколько же поспала Аня?\"))\n",
    "\n",
    "if H < A:\n",
    "    print(\"Недосуп\")\n",
    "elif H > B:\n",
    "    print(\"Пересуп\")\n",
    "else:\n",
    "    print(\"super\")\n",
    "\n"
   ]
  },
  {
   "cell_type": "markdown",
   "metadata": {},
   "source": [
    "🤔**Напишите программу, которая проверяет, является ли введенный год високосным или нет.**\n",
    "\n",
    "❔ Для определения високосного года применяется следующее правило:\n",
    "\n",
    "1. Год, который делится на 4 без остатка, считается високосным.\n",
    "\n",
    "2. Однако, если год также делится на 100 без остатка, то он не является високосным.\n",
    "\n",
    "3. Если год делится на 400 без остатка, то он все равно считается високосным.\n",
    "\n",
    "Иными словами порядковый номер високосного года должен быть кратен 4, но при этом не кратен 100, либо кратен 400.\n",
    "\n",
    "Это правило устанавливает, что большинство годов являются високосными (например, 1996, 2004, 2012), но годы, делящиеся на 100, но не делящиеся на 400, не являются високосными (например, 1800, 1900). Тем не менее, годы, которые делятся на 400, все равно считаются високосными (например, 1600, 2000).\n",
    "\n",
    "Выведите \"Високосный\" в случае, если считанный год является високосным и \"Обычный\" в обратном случае.\n"
   ]
  },
  {
   "cell_type": "code",
   "execution_count": 66,
   "metadata": {},
   "outputs": [
    {
     "name": "stdout",
     "output_type": "stream",
     "text": [
      "обычный\n"
     ]
    }
   ],
   "source": [
    "year = int(input(\"Введите год\"))\n",
    "\n",
    "if (year%4==0) and (not(year%100==0) or (year%400==0)):\n",
    "    print(\"год високосный\")\n",
    "else:\n",
    "    print(\"обычный\")"
   ]
  },
  {
   "cell_type": "markdown",
   "metadata": {},
   "source": [
    "✅ **Циклы - это конструкции в программировании, которые позволяют выполнять один и тот же блок кода несколько раз. В Python существует два основных вида циклов: циклы for и циклы while.**\n",
    "\n",
    "**Циклы for в Python:**\n",
    "\n",
    "Циклы for используются для перебора элементов в последовательности, такой как список, кортеж, строка или диапазон чисел. Они выполняются заданное количество раз, в соответствии с числом элементов в последовательности. Вот пример:\n",
    "\n",
    "Напишите программу, которая считает и выводит сумму всех чисел от 1 до заданного пользователем числа N."
   ]
  },
  {
   "cell_type": "code",
   "execution_count": 67,
   "metadata": {},
   "outputs": [
    {
     "name": "stdout",
     "output_type": "stream",
     "text": [
      "яблоко\n",
      "банан\n",
      "апельсин\n"
     ]
    }
   ],
   "source": [
    "# Пример 1: Цикл for для перебора элементов списка\n",
    "fruits = [\"яблоко\", \"банан\", \"апельсин\"]\n",
    "for a in fruits:\n",
    "    print(a)"
   ]
  },
  {
   "cell_type": "markdown",
   "metadata": {},
   "source": [
    "В этом примере цикл for перебирает элементы списка fruits и выводит каждый элемент на экран."
   ]
  },
  {
   "cell_type": "markdown",
   "metadata": {},
   "source": [
    "✅ **Циклы while в Python:**\n",
    "\n",
    "Циклы while выполняются до тех пор, пока заданное условие истинно. Они подходят, когда не известно заранее, сколько итераций будет выполнено. Вот пример:"
   ]
  },
  {
   "cell_type": "code",
   "execution_count": 70,
   "metadata": {},
   "outputs": [
    {
     "name": "stdout",
     "output_type": "stream",
     "text": [
      "1\n",
      "2\n",
      "3\n",
      "4\n",
      "5\n"
     ]
    }
   ],
   "source": [
    "# Пример 2: Цикл while для подсчета чисел от 1 до 5\n",
    "count = 1\n",
    "while count <= 5:\n",
    "    print(count)\n",
    "    count += 1"
   ]
  },
  {
   "cell_type": "markdown",
   "metadata": {},
   "source": [
    "В этом примере цикл while выполняется, пока count меньше или равно 5, и выводит числа от 1 до 5."
   ]
  },
  {
   "cell_type": "markdown",
   "metadata": {},
   "source": [
    "Циклы могут использоваться для множества задач, включая обработку элементов в списках, повторение операций, пока выполняется определенное условие, и многое другое. Важно правильно контролировать условия завершения цикла, чтобы избежать бесконечных циклов."
   ]
  },
  {
   "cell_type": "markdown",
   "metadata": {},
   "source": [
    "🤔**Напишите программу, которая считает и выводит сумму всех чисел от 1 до заданного пользователем числа N.**"
   ]
  },
  {
   "cell_type": "code",
   "execution_count": 72,
   "metadata": {},
   "outputs": [
    {
     "name": "stdout",
     "output_type": "stream",
     "text": [
      "6\n"
     ]
    }
   ],
   "source": [
    "N=int(input(\"Введите число\"))\n",
    "count=1\n",
    "sum =0 \n",
    "\n",
    "while count <= N:\n",
    "    sum+=count\n",
    "    count+=1\n",
    "print(sum)\n"
   ]
  },
  {
   "cell_type": "markdown",
   "metadata": {},
   "source": [
    "🤔**Напишите программу, которая находит и выводит все простые числа в заданном диапазоне от M до N.**"
   ]
  },
  {
   "cell_type": "code",
   "execution_count": 73,
   "metadata": {},
   "outputs": [
    {
     "name": "stdout",
     "output_type": "stream",
     "text": [
      "7\n",
      "11\n",
      "13\n"
     ]
    }
   ],
   "source": [
    "M=int(input(\"Введите M\"))\n",
    "N=int(input(\"Введите N\"))\n",
    "a=M\n",
    "while a <= N:\n",
    "    b=2\n",
    "    D=True\n",
    "    while b < a:\n",
    "        if a%b == 0:\n",
    "            D=False\n",
    "        b+=1\n",
    "    if D ==True: \n",
    "        print(a)\n",
    "    a+=1\n",
    "\n",
    "\n",
    "\n"
   ]
  },
  {
   "cell_type": "markdown",
   "metadata": {},
   "source": [
    "🤔**Напишите программу, которая выводит первые N чисел Фибоначчи, где N - это число, введенное пользователем.**\n",
    "\n",
    "❔ Числа Фибоначчи - это последовательность чисел, начиная с 0 и 1, где каждое последующее число в последовательности равно сумме двух предыдущих чисел. Таким образом, последовательность чисел Фибоначчи начинается так:\n",
    "\n",
    "0, 1, 1, 2, 3, 5, 8, 13, 21, 34, и так далее...\n",
    "\n",
    "Формально, числа Фибоначчи можно определить следующим образом:\n",
    "\n",
    "F(0) = 0\n",
    "F(1) = 1\n",
    "F(n) = F(n-1) + F(n-2) для n > 1\n",
    "\n",
    "Это рекурсивное определение означает, что каждое число Фибоначчи равно сумме двух предыдущих чисел в последовательности. Например, F(2) = F(1) + F(0) = 1 + 0 = 1, F(3) = F(2) + F(1) = 1 + 1 = 2, и так далее."
   ]
  },
  {
   "cell_type": "code",
   "execution_count": 83,
   "metadata": {},
   "outputs": [
    {
     "name": "stdout",
     "output_type": "stream",
     "text": [
      "[0, 1, 1, 2, 3, 5, 8, 13, 21, 34, 55, 89, 144, 233, 377, 610, 987]\n"
     ]
    }
   ],
   "source": [
    "N=int(input(\"Введите N\"))\n",
    "\n",
    "f = [0,1]\n",
    "count = 0\n",
    "\n",
    "while count <= (N-1):\n",
    "    f.append(f[count]+f[count+1])\n",
    "    count += 1\n",
    "\n",
    "print(f)"
   ]
  },
  {
   "cell_type": "markdown",
   "metadata": {},
   "source": [
    "🤔**Реализуйте алгоритм сортировки пузырьком для сортировки списка чисел, который пользователь вводит.**\n",
    "\n",
    "❔Сортировка пузырьком (Bubble Sort) - это один из простых алгоритмов сортировки, который применяется для упорядочивания элементов списка чисел или других данных. Он получил свое название из-за характерного поведения элементов списка, когда они \"всплывают\" или \"проваливаются\" в нужные позиции, как пузырьки воды.\n",
    "\n",
    "Принцип сортировки пузырьком:\n",
    "\n",
    "Алгоритм начинает сравнивать первые два элемента списка и меняет их местами, если первый элемент больше второго.\n",
    "\n",
    "Затем он переходит к следующей паре элементов и продолжает сравнивать их, меняя местами, если это необходимо. Этот процесс повторяется по всему списку до тех пор, пока при одном проходе не происходит ни одной замены.\n",
    "\n",
    "После первого прохода наибольший элемент перемещается в конец списка, и алгоритм начинает заново сравнивать и обменивать элементы, исключая последний элемент, который уже упорядочен.\n",
    "\n",
    "Алгоритм продолжает выполнять проходы и обмены до тех пор, пока весь список не будет упорядочен."
   ]
  },
  {
   "cell_type": "code",
   "execution_count": 87,
   "metadata": {},
   "outputs": [
    {
     "name": "stdout",
     "output_type": "stream",
     "text": [
      "[1, 8, 9, 12, 13, 13, 15, 15, 16, 21]\n"
     ]
    }
   ],
   "source": [
    "Massa= [8, 9, 16, 15, 21, 13, 12, 13, 15 ,1]\n",
    "Flag=False\n",
    "while Flag != True:\n",
    "    Flag= True\n",
    "    i = 0\n",
    "    while i < (len(Massa)-1):\n",
    "        if Massa[i] > Massa[i+1]:\n",
    "            tmp = Massa[i]\n",
    "            Massa[i] = Massa[i+1]\n",
    "            Massa[i+1] = tmp\n",
    "            Flag = False\n",
    "        i+=1\n",
    "print(Massa)"
   ]
  },
  {
   "cell_type": "markdown",
   "metadata": {},
   "source": [
    "✅**В Python строки - это последовательности символов, которые можно использовать для представления текстовой информации. Строки в Python можно создавать с использованием одинарных или двойных кавычек, например:**"
   ]
  },
  {
   "cell_type": "code",
   "execution_count": 88,
   "metadata": {},
   "outputs": [],
   "source": [
    "my_string = \"Привет, мир!\""
   ]
  },
  {
   "cell_type": "markdown",
   "metadata": {},
   "source": [
    "❔ Строки могут быть использованы для хранения и манипуляции текстовыми данными. Вот несколько основных операций и задач, связанных со строками в Python:\n",
    "\n",
    "✅ **Доступ к символам в строке:**\n",
    "Символы в строке нумеруются с 0. Для доступа к символу по индексу используйте квадратные скобки:"
   ]
  },
  {
   "cell_type": "code",
   "execution_count": null,
   "metadata": {},
   "outputs": [],
   "source": [
    "my_string = \"Hello, World!\"\n",
    "print(my_string[0])  # Вывод: \"H\""
   ]
  },
  {
   "cell_type": "markdown",
   "metadata": {},
   "source": [
    "✅ **Срезы строк:**\n",
    "С помощью срезов можно получить подстроку из строки. Срез определяется индексами начала и конца подстроки:"
   ]
  },
  {
   "cell_type": "code",
   "execution_count": null,
   "metadata": {},
   "outputs": [],
   "source": [
    "my_string = \"Hello, World!\"\n",
    "substring = my_string[7:12]  # Получить подстроку с 7-го по 11-й символы (включительно)\n",
    "print(substring)  # Вывод: \"World\""
   ]
  },
  {
   "cell_type": "markdown",
   "metadata": {},
   "source": [
    "✅ **Методы строк:**\n",
    "Python предоставляет множество методов для работы со строками, `upper()` преобразует строку в верхний регистр, `lower()` - в нижний регистр, `strip()` удаляет пробелы в начале и конце строки, `replace()` заменяет подстроки и другие методы для поиска и манипуляций со строками.\n",
    "\n",
    "🤔**Напишите программу, которая принимает строку, разделяет ее на слова и выводит их в обратном порядке, разделяя пробелами.**"
   ]
  },
  {
   "cell_type": "code",
   "execution_count": 95,
   "metadata": {},
   "outputs": [
    {
     "name": "stdout",
     "output_type": "stream",
     "text": [
      " fun ,Pyth on is\n"
     ]
    }
   ],
   "source": [
    "input_string = \"Pyth on is, fun\"\n",
    "words = input_string.split(\",\")\n",
    "reversed_words = ' ,'.join(reversed(words))\n",
    "print(reversed_words)  # Вывод: \"fun is Python\""
   ]
  },
  {
   "cell_type": "markdown",
   "metadata": {},
   "source": [
    "✅ Функции строк:\n",
    "Python также предоставляет встроенные функции для работы со строками, такие как len(), которая возвращает длину строки.\n",
    "\n",
    "🤔**Напишите программу, которая принимает строку и выводит ее длину.**"
   ]
  },
  {
   "cell_type": "code",
   "execution_count": 97,
   "metadata": {},
   "outputs": [
    {
     "name": "stdout",
     "output_type": "stream",
     "text": [
      "Длина строки: 13\n",
      "Длина строки: 13\n"
     ]
    }
   ],
   "source": [
    "input_string = \"Hello, World!\"\n",
    "length = len(input_string)\n",
    "print(\"Длина строки:\", length)  # Вывод: 13\n",
    "\n",
    "input_string = \"Hello, World!\"\n",
    "print(\"Длина строки:\", len(input_string))  # Вывод: 13"
   ]
  },
  {
   "cell_type": "markdown",
   "metadata": {},
   "source": [
    "🤔**Напишите программу, которая принимает строку и подсчитывает количество гласных букв в ней (гласные: \"aeiouAEIOU\").**"
   ]
  },
  {
   "cell_type": "code",
   "execution_count": 99,
   "metadata": {},
   "outputs": [
    {
     "name": "stdout",
     "output_type": "stream",
     "text": [
      "5\n"
     ]
    }
   ],
   "source": [
    "string=input(\"Введите строку\")\n",
    "\n",
    "count = 0\n",
    "for s in string:\n",
    "    alf = \"aeiouAEIOUаяоиеыэюЭЮАЯОИЕЫ\"\n",
    "    for a in alf:\n",
    "        if s == a:\n",
    "            count+=1\n",
    "print(count)\n"
   ]
  },
  {
   "cell_type": "markdown",
   "metadata": {},
   "source": [
    "🤔**Напишите программу, которая проверяет, является ли введенная строка палиндромом (читается одинаково слева направо и справа налево, игнорируя пробелы и регистр букв).**"
   ]
  },
  {
   "cell_type": "code",
   "execution_count": 122,
   "metadata": {},
   "outputs": [
    {
     "name": "stdout",
     "output_type": "stream",
     "text": [
      "палиндром\n"
     ]
    }
   ],
   "source": [
    "string=input(\"Введите строку\") \n",
    "string.lower()\n",
    "\n",
    "string_clean =\"\"\n",
    "for s in string:\n",
    "    if not (s==\" \" or s==\",\" or s==\".\" or s==\"!\"):\n",
    "        string_clean += s\n",
    "\n",
    "string_rev = string_clean[::-1]\n",
    "\n",
    "if string_rev == string_clean:\n",
    "    print(\"палиндром\")\n",
    "else:\n",
    "    print(\"не просто не палиндром\")"
   ]
  },
  {
   "cell_type": "markdown",
   "metadata": {},
   "source": [
    "✅ **В Python, список (list) - это упорядоченная коллекция элементов, которые могут быть любого типа данных (числа, строки, другие списки и т.д.). Списки объявляются с использованием квадратных скобок и элементы внутри списка разделяются запятыми. Вот некоторые основные аспекты работы со списками:**\n",
    "\n",
    "✅**Создание списка:**"
   ]
  },
  {
   "cell_type": "code",
   "execution_count": 125,
   "metadata": {},
   "outputs": [],
   "source": [
    "my_list = [1, 2, 3, 4, 5]"
   ]
  },
  {
   "cell_type": "markdown",
   "metadata": {},
   "source": [
    "✅ **Доступ к элементам списка:**\n",
    "Списки индексируются с использованием целых чисел, начиная с 0. Это означает, что первый элемент имеет индекс 0, второй - индекс 1 и так далее."
   ]
  },
  {
   "cell_type": "code",
   "execution_count": null,
   "metadata": {},
   "outputs": [],
   "source": [
    "my_list = [10, 20, 30, 40, 50]\n",
    "first_element = my_list[0]  # Получить первый элемент (10)"
   ]
  },
  {
   "cell_type": "markdown",
   "metadata": {},
   "source": [
    "✅ **Изменение элементов списка:**\n",
    "Элементы списка можно изменять, просто присвоив им новое значение по индексу."
   ]
  },
  {
   "cell_type": "code",
   "execution_count": null,
   "metadata": {},
   "outputs": [],
   "source": [
    "my_list = [10, 20, 30, 40, 50]\n",
    "my_list[2] = 35  # Изменить третий элемент на 35"
   ]
  },
  {
   "cell_type": "markdown",
   "metadata": {},
   "source": [
    "✅ **Добавление и удаление элементов:**\n",
    "С помощью методов `append()` и `extend()` можно добавлять элементы в список. Метод `pop()` удаляет элемент по индексу."
   ]
  },
  {
   "cell_type": "code",
   "execution_count": 124,
   "metadata": {},
   "outputs": [
    {
     "name": "stdout",
     "output_type": "stream",
     "text": [
      "[1, 3, 4, 5, 6]\n"
     ]
    }
   ],
   "source": [
    "my_list = [1, 2, 3]\n",
    "my_list.append(4)  # Добавить 4 в конец списка\n",
    "my_list.extend([5, 6])  # Добавить элементы из другого списка\n",
    "my_list.pop(1)  # Удалить второй элемент (значение 2)\n",
    "\n",
    "print(my_list)"
   ]
  },
  {
   "cell_type": "markdown",
   "metadata": {},
   "source": [
    "🤔**Напишите программу, которая создает два списка: один с четными числами, а другой с нечетными числами из заданного списка.**"
   ]
  },
  {
   "cell_type": "code",
   "execution_count": 21,
   "metadata": {},
   "outputs": [
    {
     "name": "stdout",
     "output_type": "stream",
     "text": [
      "Список четных чисел: [2, 4, 6, 8]\n",
      "Список нечетных чисел: [1, 3, 5, 7, 9]\n"
     ]
    }
   ],
   "source": [
    "# надо удалить?\n",
    "numbers = [1, 2, 3, 4, 5, 6, 7, 8, 9]\n",
    "even_numbers = [num for num in numbers if num % 2 == 0]\n",
    "odd_numbers = [num for num in numbers if num % 2 != 0]\n",
    "print(\"Список четных чисел:\", even_numbers)\n",
    "print(\"Список нечетных чисел:\", odd_numbers)"
   ]
  },
  {
   "cell_type": "markdown",
   "metadata": {},
   "source": [
    "🤔**Создайте список слов. Попросите пользователя ввести слово. Если слово есть в списке, удалите его. Выведите список после удаления.**"
   ]
  },
  {
   "cell_type": "code",
   "execution_count": 127,
   "metadata": {},
   "outputs": [
    {
     "name": "stdout",
     "output_type": "stream",
     "text": [
      "['Есенин', 'Маяковский', 'Пушкин', 'Ахматова']\n"
     ]
    }
   ],
   "source": [
    "words = [\"Блок\", \"Есенин\", \"Маяковский\", \"Пушкин\", \"Ахматова\"]\n",
    "string=input(\"Введите фамилию\") \n",
    "\n",
    "words2 = [word for word in words if word != string]\n",
    "print(words2)"
   ]
  },
  {
   "cell_type": "markdown",
   "metadata": {},
   "source": [
    "✅**Функции в Python - это блоки кода, которые могут быть вызваны и выполнять определенные действия. Функции являются основным механизмом организации и структурирования кода в Python.** Они позволяют создавать переиспользуемые блоки кода, что улучшает читаемость и обслуживаемость программ. Вот основные аспекты работы с функциями:\n",
    "\n",
    "✅**Создание функции:**\n",
    "Функции создаются с использованием ключевого слова def, за которым следует имя функции и круглые скобки с параметрами функции. Тело функции отделяется от остального кода с помощью отступов."
   ]
  },
  {
   "cell_type": "code",
   "execution_count": null,
   "metadata": {},
   "outputs": [],
   "source": [
    "def say_hello():\n",
    "    print(\"Привет, мир!\")"
   ]
  },
  {
   "cell_type": "markdown",
   "metadata": {},
   "source": [
    "✅**Вызов функции:**\n",
    "Функции вызываются по имени с использованием круглых скобок. Вы можете передать аргументы функции, которые могут быть использованы внутри функции."
   ]
  },
  {
   "cell_type": "code",
   "execution_count": null,
   "metadata": {},
   "outputs": [
    {
     "ename": "NameError",
     "evalue": "name 'say_hello' is not defined",
     "output_type": "error",
     "traceback": [
      "\u001b[0;31m---------------------------------------------------------------------------\u001b[0m",
      "\u001b[0;31mNameError\u001b[0m                                 Traceback (most recent call last)",
      "Cell \u001b[0;32mIn[128], line 1\u001b[0m\n\u001b[0;32m----> 1\u001b[0m \u001b[43msay_hello\u001b[49m()  \u001b[38;5;66;03m# Вызов функции\u001b[39;00m\n",
      "\u001b[0;31mNameError\u001b[0m: name 'say_hello' is not defined"
     ]
    }
   ],
   "source": [
    "say_hello()  # Вызов функции"
   ]
  },
  {
   "cell_type": "markdown",
   "metadata": {},
   "source": [
    "✅**Возвращение значений:**\n",
    "Функции могут возвращать результат с помощью ключевого слова return. Это позволяет использовать результат выполнения функции в другой части программы."
   ]
  },
  {
   "cell_type": "code",
   "execution_count": null,
   "metadata": {},
   "outputs": [],
   "source": [
    "def add_numbers(a, b):\n",
    "    return a + b\n",
    "result = add_numbers(3, 4)  # result будет равен 7"
   ]
  },
  {
   "cell_type": "markdown",
   "metadata": {},
   "source": [
    "✅**Параметры и аргументы:**\n",
    "Параметры - это переменные, указанные в определении функции. Аргументы - это значения, переданные в функцию при ее вызове. Функция может иметь как обязательные, так и необязательные параметры."
   ]
  },
  {
   "cell_type": "code",
   "execution_count": null,
   "metadata": {},
   "outputs": [],
   "source": [
    "def greet(name):\n",
    "    print(f\"Привет, {name}!\")\n",
    "greet(\"Анна\")  # \"Анна\" - аргумент"
   ]
  },
  {
   "cell_type": "markdown",
   "metadata": {},
   "source": [
    "🤔**Поиск максимума:\n",
    "Напишите функцию, которая принимает список чисел и возвращает максимальное значение.**"
   ]
  },
  {
   "cell_type": "code",
   "execution_count": 129,
   "metadata": {},
   "outputs": [
    {
     "name": "stdout",
     "output_type": "stream",
     "text": [
      "21\n"
     ]
    }
   ],
   "source": [
    "b = [0, 8, 9, 16, 15, 13, 12, 18, 21]\n",
    "\n",
    "def max(a):\n",
    "    max =0 \n",
    "    for num in a:\n",
    "        if num>max:\n",
    "            max = num\n",
    "    return(max)\n",
    "\n",
    "print(max(b))\n"
   ]
  },
  {
   "cell_type": "markdown",
   "metadata": {},
   "source": [
    "🤔**Факториал числа:\n",
    "Напишите функцию для вычисления факториала числа (произведение всех целых чисел от 1 до n).**"
   ]
  },
  {
   "cell_type": "code",
   "execution_count": 133,
   "metadata": {},
   "outputs": [
    {
     "name": "stdout",
     "output_type": "stream",
     "text": [
      "6\n"
     ]
    }
   ],
   "source": [
    "N=int(input(\"Введите n\"))\n",
    "\n",
    "def fucktorial(T):\n",
    "    f=1\n",
    "    while T>0:\n",
    "        f*=T\n",
    "        T-=1\n",
    "    return(f)\n",
    "\n",
    "print(fucktorial(N))"
   ]
  }
 ],
 "metadata": {
  "kernelspec": {
   "display_name": "Python 3",
   "language": "python",
   "name": "python3"
  },
  "language_info": {
   "codemirror_mode": {
    "name": "ipython",
    "version": 3
   },
   "file_extension": ".py",
   "mimetype": "text/x-python",
   "name": "python",
   "nbconvert_exporter": "python",
   "pygments_lexer": "ipython3",
   "version": "3.8.10"
  },
  "vscode": {
   "interpreter": {
    "hash": "e7370f93d1d0cde622a1f8e1c04877d8463912d04d973331ad4851f04de6915a"
   }
  }
 },
 "nbformat": 4,
 "nbformat_minor": 2
}
